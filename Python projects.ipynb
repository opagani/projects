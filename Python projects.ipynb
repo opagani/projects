{
 "cells": [
  {
   "cell_type": "code",
   "execution_count": null,
   "id": "cbf23945-b4b3-4991-92bd-9b9fbb11dfce",
   "metadata": {},
   "outputs": [],
   "source": []
  },
  {
   "cell_type": "markdown",
   "id": "a27ab18b-c9f0-4754-89d8-137665c5bff2",
   "metadata": {},
   "source": [
    "# Agenda\n",
    "\n",
    "1. What is a project (vs. a program)?\n",
    "2. The parts of a project\n",
    "3. Virtualenv\n",
    "4. Distribution packages (vs. regular packages)\n",
    "5. Poetry\n",
    "6. Create a package/project\n",
    "7. Testing\n",
    "8. Command-line program \n",
    "9. Publishing to PyPI with Poetry"
   ]
  },
  {
   "cell_type": "markdown",
   "id": "af96cc01-0ee9-4094-877f-6ed173eea9e4",
   "metadata": {},
   "source": [
    "# What is a project?\n",
    "\n",
    "Anything that:\n",
    "- Has more than one file\n",
    "    - More than one module\n",
    "    - Documentation\n",
    "    - Command-line executable script\n",
    "- You want to share with other people\n",
    "\n",
    "So what? You'll need:\n",
    "- More structure \n",
    "- Versioning\n",
    "- Distribution mechanism\n"
   ]
  },
  {
   "cell_type": "markdown",
   "id": "46392535-ae4b-4d66-af28-7520d9cb1e03",
   "metadata": {},
   "source": [
    "# PyPI is great! `pip` is great!\n",
    "\n",
    "- If you define code in a single file, and then want to use info in that file, that's a \"module.\"\n",
    "- If you have more than one file that should be included in the same module, we call that a \"package.\"\n",
    "    - Python packages are directories that contain modules.\n",
    "    - Python packages also provide us with deeper namespaces\n",
    "- If you want to distribute your package to other people, then you need a \"distribution package.\"    \n",
    "- When you download and install something from PyPI, using `pip`, you're installing a \"distribution package.\"\n",
    "- When you install a package with `pip`, it typically goes into your `site-packages` directory. It's installed there in a subdirectory with the name of the package you installed. This means that if you are working on two different projects, and each project uses the same package from PyPI, but in different versions... you're in trouble.\n",
    "\n",
    "# Solution: Virtual environments\n",
    "\n",
    "Virtual environments (aka \"venvs\") are a way to provide your particular project with its own, independent `site-packages` directory. If every project you work on uses a different venv, then each project can install different versions of the same package from PyPI, without interfering with one another.\n",
    "\n",
    "Python pays attention to venvs thanks to some manipulation of the environment variables in your command-line shell."
   ]
  },
  {
   "cell_type": "markdown",
   "id": "78326ef9-078b-4b94-9046-6039f1c03c14",
   "metadata": {},
   "source": [
    "# Where are we now?\n",
    "\n",
    "- We understand what a package is (i.e., a directory with `__init__.py` and one or more files + subdirectories\n",
    "- Distribution packages, which are packages + metadata\n",
    "- wheelfiles vs. .tar.gz\n",
    "- pip can install wheelfiles\n",
    "- installing .tar.gz is not as good, but sometimes necessary (`python install setup.py`)"
   ]
  },
  {
   "cell_type": "code",
   "execution_count": 1,
   "id": "a35f9f7a-df0c-4462-9cb1-db55a734b6dd",
   "metadata": {},
   "outputs": [],
   "source": [
    "import mypackage"
   ]
  },
  {
   "cell_type": "code",
   "execution_count": 2,
   "id": "d7042e5c-de41-4892-99a7-6af10339ac39",
   "metadata": {},
   "outputs": [
    {
     "data": {
      "text/plain": [
       "['__doc__',\n",
       " '__file__',\n",
       " '__loader__',\n",
       " '__name__',\n",
       " '__package__',\n",
       " '__path__',\n",
       " '__spec__']"
      ]
     },
     "execution_count": 2,
     "metadata": {},
     "output_type": "execute_result"
    }
   ],
   "source": [
    "dir(mypackage)"
   ]
  },
  {
   "cell_type": "code",
   "execution_count": 3,
   "id": "0f7fabcd-35e8-4f45-8418-b0e00b936040",
   "metadata": {},
   "outputs": [
    {
     "data": {
      "text/plain": [
       "module"
      ]
     },
     "execution_count": 3,
     "metadata": {},
     "output_type": "execute_result"
    }
   ],
   "source": [
    "type(mypackage)"
   ]
  },
  {
   "cell_type": "code",
   "execution_count": 4,
   "id": "7804d25b-5c63-4690-8961-bf8e5e9c0f01",
   "metadata": {},
   "outputs": [],
   "source": [
    "from mypackage import a  # go into the \"mypackage\" directory, and find \"a.py\", and load it as a module -- here, a is a global variable"
   ]
  },
  {
   "cell_type": "code",
   "execution_count": 8,
   "id": "000eedde-6331-4939-9cec-c4e9454df228",
   "metadata": {},
   "outputs": [],
   "source": [
    "import mypackage.a       # define a as an attribute on mypackage"
   ]
  },
  {
   "cell_type": "code",
   "execution_count": 5,
   "id": "ce677f68-2bf9-47ab-aba6-c9be08415fbe",
   "metadata": {},
   "outputs": [],
   "source": [
    "from mypackage import b"
   ]
  },
  {
   "cell_type": "code",
   "execution_count": 6,
   "id": "e51da0dd-7bd2-4409-acc7-742c391fc024",
   "metadata": {},
   "outputs": [
    {
     "data": {
      "text/plain": [
       "'Hello from a, world!'"
      ]
     },
     "execution_count": 6,
     "metadata": {},
     "output_type": "execute_result"
    }
   ],
   "source": [
    "a.hello('world')"
   ]
  },
  {
   "cell_type": "code",
   "execution_count": 7,
   "id": "10a3884c-bb08-40a9-bb40-21d947ad4dec",
   "metadata": {},
   "outputs": [
    {
     "data": {
      "text/plain": [
       "'Hello from b, world!'"
      ]
     },
     "execution_count": 7,
     "metadata": {},
     "output_type": "execute_result"
    }
   ],
   "source": [
    "b.hello('world')"
   ]
  },
  {
   "cell_type": "code",
   "execution_count": 1,
   "id": "2d84d579-40a2-47e6-9de1-8eb9c636fa60",
   "metadata": {},
   "outputs": [
    {
     "name": "stdout",
     "output_type": "stream",
     "text": [
      "Hello from __init__.py!\n"
     ]
    }
   ],
   "source": [
    "import mypackage"
   ]
  },
  {
   "cell_type": "code",
   "execution_count": 2,
   "id": "24e4158a-2ec2-49d7-be97-6c31001e330c",
   "metadata": {},
   "outputs": [
    {
     "data": {
      "text/plain": [
       "['__builtins__',\n",
       " '__cached__',\n",
       " '__doc__',\n",
       " '__file__',\n",
       " '__loader__',\n",
       " '__name__',\n",
       " '__package__',\n",
       " '__path__',\n",
       " '__spec__']"
      ]
     },
     "execution_count": 2,
     "metadata": {},
     "output_type": "execute_result"
    }
   ],
   "source": [
    "dir(mypackage)"
   ]
  },
  {
   "cell_type": "code",
   "execution_count": 1,
   "id": "f9c8632e-606b-49f5-8323-d8ae649b90d5",
   "metadata": {},
   "outputs": [
    {
     "name": "stdout",
     "output_type": "stream",
     "text": [
      "Hello from __init__.py!\n"
     ]
    }
   ],
   "source": [
    "from mypackage import a"
   ]
  },
  {
   "cell_type": "code",
   "execution_count": 1,
   "id": "8644e941-0976-4414-885c-9c9fa7e46aef",
   "metadata": {},
   "outputs": [
    {
     "name": "stdout",
     "output_type": "stream",
     "text": [
      "Hello from __init__.py!\n"
     ]
    }
   ],
   "source": [
    "import mypackage.b"
   ]
  },
  {
   "cell_type": "markdown",
   "id": "56867e76-ec93-491a-ab07-1805a80329a8",
   "metadata": {},
   "source": [
    "# Next up\n",
    "\n",
    "1. How Poetry solves all of these problems\n",
    "2. We'll start developing an application using Poetry\n",
    "\n",
    "In order to do this next part, please install Poetry!  You can know if Poetry is installed with `poetry -v` on the command line.\n",
    "\n",
    "Don't install it inside of a venv!"
   ]
  },
  {
   "cell_type": "code",
   "execution_count": 2,
   "id": "41385768-ef6e-479e-8f05-c6e722e3ca12",
   "metadata": {},
   "outputs": [],
   "source": [
    "# Return at :05"
   ]
  },
  {
   "cell_type": "markdown",
   "id": "78a54475-044e-4e23-8b73-d67b9c7c4297",
   "metadata": {},
   "source": [
    "# How do we use Poetry?\n",
    "\n",
    "It's a command-line tool with a very large number of commands. You typically write\n",
    "\n",
    "    poetry command args...\n",
    "    \n",
    "The first thing you have to do is create a new project with Poetry.  You can do that with\n",
    "\n",
    "    poetry new PROJNAME\n",
    "    \n",
    "That will create a new subdirectory with that project name.  If you already have a project and you want to use Poetry to work with it, then you can do that as well, but we're going to ignore that for now.    "
   ]
  },
  {
   "cell_type": "markdown",
   "id": "6c77342c-0dde-4959-8762-e2d6b211a14d",
   "metadata": {},
   "source": [
    "# What will we be doing?\n",
    "\n",
    "We're going to create a project that allows us to do some basic reading and filtering of Apache logfiles.  The ideas that with our project:\n",
    "\n",
    "- We'll have a module that defines a class (`ApacheParse`)\n",
    "- Each instance of that class will allow us to parse and look at an Apache logfile\n",
    "- We'll have several methods we can call on the object (`ap`) to get back the lines from that logfile in Python objects.\n",
    "- We'll also have a command-line program we can use to invoke our parser."
   ]
  },
  {
   "cell_type": "markdown",
   "id": "aa618b09-9f5c-4d0b-a939-cf48f7c7ef7e",
   "metadata": {},
   "source": [
    "# First: Create our project\n",
    "\n",
    "I'm going to call this the \"aparse\" project, and I'm going to create it in a project called \"rmlaparse\"."
   ]
  },
  {
   "cell_type": "markdown",
   "id": "f3c89d56-b373-4e84-ba76-1d5fa8ecf2bd",
   "metadata": {},
   "source": [
    "# Exercise: Create a module\n",
    "\n",
    "Write a module, `aparser.py`, inside of our package. That module should define a class, `ApacheParse`, which takes a single argument, a string, the name of the file we will want to open.  The file should be opened, and the opened file object should be stored to an attribute, `f`.\n",
    "\n"
   ]
  },
  {
   "cell_type": "code",
   "execution_count": null,
   "id": "547e09fa-e13f-49f5-93a2-795cc74f686d",
   "metadata": {},
   "outputs": [],
   "source": []
  }
 ],
 "metadata": {
  "kernelspec": {
   "display_name": "Python 3 (ipykernel)",
   "language": "python",
   "name": "python3"
  },
  "language_info": {
   "codemirror_mode": {
    "name": "ipython",
    "version": 3
   },
   "file_extension": ".py",
   "mimetype": "text/x-python",
   "name": "python",
   "nbconvert_exporter": "python",
   "pygments_lexer": "ipython3",
   "version": "3.10.0"
  }
 },
 "nbformat": 4,
 "nbformat_minor": 5
}
