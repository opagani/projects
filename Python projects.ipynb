{
 "cells": [
  {
   "cell_type": "code",
   "execution_count": null,
   "id": "cbf23945-b4b3-4991-92bd-9b9fbb11dfce",
   "metadata": {},
   "outputs": [],
   "source": []
  },
  {
   "cell_type": "markdown",
   "id": "a27ab18b-c9f0-4754-89d8-137665c5bff2",
   "metadata": {},
   "source": [
    "# Agenda\n",
    "\n",
    "1. What is a project (vs. a program)?\n",
    "2. The parts oa  rp"
   ]
  }
 ],
 "metadata": {
  "kernelspec": {
   "display_name": "Python 3 (ipykernel)",
   "language": "python",
   "name": "python3"
  },
  "language_info": {
   "codemirror_mode": {
    "name": "ipython",
    "version": 3
   },
   "file_extension": ".py",
   "mimetype": "text/x-python",
   "name": "python",
   "nbconvert_exporter": "python",
   "pygments_lexer": "ipython3",
   "version": "3.10.0"
  }
 },
 "nbformat": 4,
 "nbformat_minor": 5
}
