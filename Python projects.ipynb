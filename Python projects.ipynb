{
 "cells": [
  {
   "cell_type": "code",
   "execution_count": null,
   "id": "cbf23945-b4b3-4991-92bd-9b9fbb11dfce",
   "metadata": {},
   "outputs": [],
   "source": []
  },
  {
   "cell_type": "markdown",
   "id": "a27ab18b-c9f0-4754-89d8-137665c5bff2",
   "metadata": {},
   "source": [
    "# Agenda\n",
    "\n",
    "1. What is a project (vs. a program)?\n",
    "2. The parts of a project\n",
    "3. Virtualenv\n",
    "4. Distribution packages (vs. regular packages)\n",
    "5. Poetry\n",
    "6. Create a package/project\n",
    "7. Testing\n",
    "8. Command-line program \n",
    "9. Publishing to PyPI with Poetry"
   ]
  },
  {
   "cell_type": "markdown",
   "id": "af96cc01-0ee9-4094-877f-6ed173eea9e4",
   "metadata": {},
   "source": [
    "# What is a project?\n",
    "\n",
    "Anything that:\n",
    "- Has more than one file\n",
    "    - More than one module\n",
    "    - Documentation\n",
    "    - Command-line executable script\n",
    "- You want to share with other people\n",
    "\n",
    "So what? You'll need:\n",
    "- More structure \n",
    "- Versioning\n",
    "- Distribution mechanism\n"
   ]
  },
  {
   "cell_type": "markdown",
   "id": "46392535-ae4b-4d66-af28-7520d9cb1e03",
   "metadata": {},
   "source": [
    "# PyPI is great! `pip` is great!\n",
    "\n",
    "- If you define code in a single file, and then want to use info in that file, that's a \"module.\"\n",
    "- If you have more than one file that should be included in the same module, we call that a \"package.\"\n",
    "    - Python packages are directories that contain modules.\n",
    "    - Python packages also provide us with deeper namespaces\n",
    "- If you want to distribute your package    "
   ]
  }
 ],
 "metadata": {
  "kernelspec": {
   "display_name": "Python 3 (ipykernel)",
   "language": "python",
   "name": "python3"
  },
  "language_info": {
   "codemirror_mode": {
    "name": "ipython",
    "version": 3
   },
   "file_extension": ".py",
   "mimetype": "text/x-python",
   "name": "python",
   "nbconvert_exporter": "python",
   "pygments_lexer": "ipython3",
   "version": "3.10.0"
  }
 },
 "nbformat": 4,
 "nbformat_minor": 5
}
