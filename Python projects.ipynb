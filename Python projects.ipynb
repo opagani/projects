{
 "cells": [
  {
   "cell_type": "code",
   "execution_count": null,
   "id": "cbf23945-b4b3-4991-92bd-9b9fbb11dfce",
   "metadata": {},
   "outputs": [],
   "source": []
  },
  {
   "cell_type": "markdown",
   "id": "a27ab18b-c9f0-4754-89d8-137665c5bff2",
   "metadata": {},
   "source": [
    "# Agenda\n",
    "\n",
    "1. What is a project (vs. a program)?\n",
    "2. The parts of a project\n",
    "3. Virtualenv\n",
    "4. Distribution packages (vs. regular packages)\n",
    "5. Poetry\n",
    "6. Create a package/project\n",
    "7. Testing\n",
    "8. Command-line program \n",
    "9. Publishing to PyPI with Poetry"
   ]
  },
  {
   "cell_type": "markdown",
   "id": "af96cc01-0ee9-4094-877f-6ed173eea9e4",
   "metadata": {},
   "source": [
    "# What is a project?\n",
    "\n",
    "Anything that:\n",
    "- Has more than one file\n",
    "    - More than one module\n",
    "    - Documentation\n",
    "    - Command-line executable script\n",
    "- You want to share with other people\n",
    "\n",
    "So what? You'll need:\n",
    "- More structure \n",
    "- Versioning\n",
    "- Distribution mechanism\n"
   ]
  },
  {
   "cell_type": "markdown",
   "id": "46392535-ae4b-4d66-af28-7520d9cb1e03",
   "metadata": {},
   "source": [
    "# PyPI is great! `pip` is great!\n",
    "\n",
    "- If you define code in a single file, and then want to use info in that file, that's a \"module.\"\n",
    "- If you have more than one file that should be included in the same module, we call that a \"package.\"\n",
    "    - Python packages are directories that contain modules.\n",
    "    - Python packages also provide us with deeper namespaces\n",
    "- If you want to distribute your package to other people, then you need a \"distribution package.\"    \n",
    "- When you download and install something from PyPI, using `pip`, you're installing a \"distribution package.\"\n",
    "- When you install a package with `pip`, it typically goes into your `site-packages` directory. It's installed there in a subdirectory with the name of the package you installed. This means that if you are working on two different projects, and each project uses the same package from PyPI, but in different versions... you're in trouble.\n",
    "\n",
    "# Solution: Virtual environments\n",
    "\n",
    "Virtual environments (aka \"venvs\") are a way to provide your particular project with its own, independent `site-packages` directory. If every project you work on uses a different venv, then each project can install different versions of the same package from PyPI, without interfering with one another.\n",
    "\n",
    "Python pays attention to venvs thanks to some manipulation of the environment variables in your command-line shell."
   ]
  },
  {
   "cell_type": "markdown",
   "id": "78326ef9-078b-4b94-9046-6039f1c03c14",
   "metadata": {},
   "source": [
    "# Where are we now?\n",
    "\n",
    "- We understand what a package is (i.e., a directory with `__init__.py` and one or more files + subdirectories\n",
    "- Distribution packages, which are packages + metadata\n",
    "- wheelfiles vs. .tar.gz\n",
    "- pip can install wheelfiles\n",
    "- installing .tar.gz is not as good, but sometimes necessary (`python install setup.py`)"
   ]
  },
  {
   "cell_type": "code",
   "execution_count": 1,
   "id": "a35f9f7a-df0c-4462-9cb1-db55a734b6dd",
   "metadata": {},
   "outputs": [],
   "source": [
    "import mypackage"
   ]
  },
  {
   "cell_type": "code",
   "execution_count": 2,
   "id": "d7042e5c-de41-4892-99a7-6af10339ac39",
   "metadata": {},
   "outputs": [
    {
     "data": {
      "text/plain": [
       "['__doc__',\n",
       " '__file__',\n",
       " '__loader__',\n",
       " '__name__',\n",
       " '__package__',\n",
       " '__path__',\n",
       " '__spec__']"
      ]
     },
     "execution_count": 2,
     "metadata": {},
     "output_type": "execute_result"
    }
   ],
   "source": [
    "dir(mypackage)"
   ]
  },
  {
   "cell_type": "code",
   "execution_count": null,
   "id": "0f7fabcd-35e8-4f45-8418-b0e00b936040",
   "metadata": {},
   "outputs": [],
   "source": []
  }
 ],
 "metadata": {
  "kernelspec": {
   "display_name": "Python 3 (ipykernel)",
   "language": "python",
   "name": "python3"
  },
  "language_info": {
   "codemirror_mode": {
    "name": "ipython",
    "version": 3
   },
   "file_extension": ".py",
   "mimetype": "text/x-python",
   "name": "python",
   "nbconvert_exporter": "python",
   "pygments_lexer": "ipython3",
   "version": "3.10.0"
  }
 },
 "nbformat": 4,
 "nbformat_minor": 5
}
