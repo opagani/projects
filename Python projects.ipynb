{
 "cells": [
  {
   "cell_type": "code",
   "execution_count": null,
   "id": "cbf23945-b4b3-4991-92bd-9b9fbb11dfce",
   "metadata": {},
   "outputs": [],
   "source": []
  },
  {
   "cell_type": "markdown",
   "id": "a27ab18b-c9f0-4754-89d8-137665c5bff2",
   "metadata": {},
   "source": [
    "# Agenda\n",
    "\n",
    "1. What is a project (vs. a program)?\n",
    "2. The parts of a project\n",
    "3. Virtualenv\n",
    "4. Distribution packages (vs. regular packages)\n",
    "5. Poetry\n",
    "6. Create a package/project\n",
    "7. Testing\n",
    "8. Command-line program \n",
    "9. Publishing to PyPI with Poetry"
   ]
  },
  {
   "cell_type": "markdown",
   "id": "af96cc01-0ee9-4094-877f-6ed173eea9e4",
   "metadata": {},
   "source": [
    "# What is a project?\n",
    "\n",
    "Anything that:\n",
    "- Has more than one file\n",
    "    - More than one module\n",
    "    - Documentation\n",
    "    - Command-line executable script\n",
    "- You want to share with other people\n",
    "\n",
    "So what? You'll need:\n",
    "- More structure \n",
    "- Versioning\n",
    "- Distribution mechanism\n"
   ]
  },
  {
   "cell_type": "code",
   "execution_count": null,
   "id": "c605efc5-87fa-4bcc-8df6-6312f2f490a6",
   "metadata": {},
   "outputs": [],
   "source": []
  }
 ],
 "metadata": {
  "kernelspec": {
   "display_name": "Python 3 (ipykernel)",
   "language": "python",
   "name": "python3"
  },
  "language_info": {
   "codemirror_mode": {
    "name": "ipython",
    "version": 3
   },
   "file_extension": ".py",
   "mimetype": "text/x-python",
   "name": "python",
   "nbconvert_exporter": "python",
   "pygments_lexer": "ipython3",
   "version": "3.10.0"
  }
 },
 "nbformat": 4,
 "nbformat_minor": 5
}
